{
 "cells": [
  {
   "metadata": {
    "jupyter": {
     "is_executing": true
    }
   },
   "cell_type": "code",
   "source": [
    "from utils.model_builder import ModelBuilder\n",
    "import tensorflow as tf\n",
    "\n",
    "model_builder = ModelBuilder(tf.keras.datasets.cifar10.load_data)\n"
   ],
   "id": "d1ebf4e9ee479a58",
   "outputs": [],
   "execution_count": null
  },
  {
   "metadata": {},
   "cell_type": "markdown",
   "source": "Model A",
   "id": "ebaed21f7756357b"
  },
  {
   "metadata": {},
   "cell_type": "markdown",
   "source": "",
   "id": "c35af7ea17837d3e"
  },
  {
   "metadata": {
    "tags": []
   },
   "cell_type": "code",
   "outputs": [],
   "execution_count": null,
   "source": [
    "import tensorflow as tf\n",
    "neurons_per_layer = 100\n",
    "layers_count = 20\n",
    "\n",
    "flatten_layer = model_builder.get_flatten_layer()\n",
    "layers = [flatten_layer]\n",
    "\n",
    "for i in range(layers_count):\n",
    "    layers.append(tf.keras.layers.Dense(neurons_per_layer))\n",
    "\n",
    "model = tf.keras.models.Sequential(layers)\n",
    "model_builder.set_model(model)\n",
    "model = model.build()\n",
    "\n"
   ],
   "id": "bd9fbe535127f9e6"
  },
  {
   "metadata": {},
   "cell_type": "markdown",
   "source": "",
   "id": "e9a64dc2a6e9bc39"
  },
  {
   "metadata": {
    "collapsed": true
   },
   "cell_type": "code",
   "outputs": [],
   "execution_count": null,
   "source": "",
   "id": "initial_id"
  },
  {
   "metadata": {},
   "cell_type": "code",
   "outputs": [],
   "execution_count": null,
   "source": "",
   "id": "f3b5c380647ed20c"
  },
  {
   "metadata": {},
   "cell_type": "markdown",
   "source": "",
   "id": "98c2017cff85a221"
  }
 ],
 "metadata": {
  "kernelspec": {
   "display_name": "Python 3",
   "language": "python",
   "name": "python3"
  },
  "language_info": {
   "codemirror_mode": {
    "name": "ipython",
    "version": 2
   },
   "file_extension": ".py",
   "mimetype": "text/x-python",
   "name": "python",
   "nbconvert_exporter": "python",
   "pygments_lexer": "ipython2",
   "version": "2.7.6"
  }
 },
 "nbformat": 4,
 "nbformat_minor": 5
}
